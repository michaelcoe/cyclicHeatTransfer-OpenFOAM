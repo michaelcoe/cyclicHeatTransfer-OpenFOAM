{
 "metadata": {
  "name": "",
  "signature": "sha256:0ae1d4fee1c12144948b4da8a2f05dfaee87496d522049219d4fd68bd0c32292"
 },
 "nbformat": 3,
 "nbformat_minor": 0,
 "worksheets": [
  {
   "cells": [
    {
     "cell_type": "heading",
     "level": 1,
     "metadata": {},
     "source": [
      "Laminar pipe flow - Hagen\u2013Poiseuille solution"
     ]
    },
    {
     "cell_type": "markdown",
     "metadata": {},
     "source": [
      "In this tutorial we use icoFoam to compute a laminar pipe flow, we then compare the numerical solution obtained with the analytical solution. <br>\n",
      "\n",
      "You will find the instruction of how to run this case in the file README.FIRST. <br>\n",
      "\n",
      "By the way, to plot the numerical solution you need to use the utility sample to get the solution at the end of the pipe."
     ]
    },
    {
     "cell_type": "heading",
     "level": 3,
     "metadata": {},
     "source": [
      "Remember, to execute a cell in ipython you need to press shift-enter"
     ]
    },
    {
     "cell_type": "markdown",
     "metadata": {},
     "source": [
      "The %matplotlib magic is used to specify which matplotlib backend we want to use. \n",
      "Most of the time, in the Notebook, you will want to use the inline backend, which will embed plots inside the Notebook:"
     ]
    },
    {
     "cell_type": "code",
     "collapsed": false,
     "input": [
      "%matplotlib inline"
     ],
     "language": "python",
     "metadata": {},
     "outputs": [],
     "prompt_number": 1
    },
    {
     "cell_type": "markdown",
     "metadata": {},
     "source": [
      "We now import the libraries numpy and matplotlib. <br>\n",
      "NumPy is the fundamental package for scientific computing. <br>\n",
      "Matplotlib is used for plotting."
     ]
    },
    {
     "cell_type": "code",
     "collapsed": false,
     "input": [
      "import numpy as np\n",
      "import matplotlib.pyplot as plt"
     ],
     "language": "python",
     "metadata": {},
     "outputs": []
    },
    {
     "cell_type": "markdown",
     "metadata": {},
     "source": [
      "We now use loadtxt to read the input file.  <br>\n",
      "We type np.loadtxt because loadtxt belongs to numpy which we imported with the name np.<br>\n",
      "The skiprows option is use to skip header lines.  In this case the input file does not contain a header.<br>\n",
      "All the indormation is saved in the variable data, which is an array."
     ]
    },
    {
     "cell_type": "code",
     "collapsed": false,
     "input": [
      "data = np.loadtxt('postProcessing/sets/1/s2_U.xy', skiprows=0)"
     ],
     "language": "python",
     "metadata": {},
     "outputs": []
    },
    {
     "cell_type": "markdown",
     "metadata": {},
     "source": [
      "We now compute the velocity profile according to Hagen\u2013Poiseuille solution. <br>\n",
      "\n",
      "$$v_{radial} = v_{max} \\left[ 1 - \\dfrac{r^2}{R_{max}^2} \\right] $$\n",
      "\n",
      "where $v_{max}$ is the maximum axial velocity obtained from the simulation, $R_{max}$ is the maximum radius, and $r$ is the local radius."
     ]
    },
    {
     "cell_type": "code",
     "collapsed": false,
     "input": [
      "vmax = 1.4\n",
      "rmax = 0.05\n",
      "\n",
      "x = np.linspace(-1*rmax, rmax, 100)\n",
      "sol = vmax*(1 - x**2/rmax**2)"
     ],
     "language": "python",
     "metadata": {},
     "outputs": [],
     "prompt_number": 34
    },
    {
     "cell_type": "markdown",
     "metadata": {},
     "source": [
      "We now plot a sample velocity profile.  <br>\n",
      "To do so, we use the plot function. <br>\n",
      "As this function belongs to matplotlib.pyplot, we append plt to plot as follows: plt.plot"
     ]
    },
    {
     "cell_type": "code",
     "collapsed": false,
     "input": [
      "plt.plot(x,sol,'-')"
     ],
     "language": "python",
     "metadata": {},
     "outputs": [
      {
       "metadata": {},
       "output_type": "pyout",
       "prompt_number": 35,
       "text": [
        "[<matplotlib.lines.Line2D at 0x7f9ae5633290>]"
       ]
      },
      {
       "metadata": {},
       "output_type": "display_data",
       "png": "[encoded data removed]",
       "text": [
        "<matplotlib.figure.Figure at 0x7f9ae5812d90>"
       ]
      }
     ],
     "prompt_number": 35
    },
    {
     "cell_type": "markdown",
     "metadata": {},
     "source": [
      "<br>\n",
      "<br>\n",
      "<br>\n",
      "Now we can proceed to compare the analytical solution with the numerical solution. <br>\n",
      "Remember, to execute the next cell to need to run first the sample utility."
     ]
    },
    {
     "cell_type": "code",
     "collapsed": false,
     "input": [
      "import numpy as np\n",
      "import matplotlib.pyplot as plt\n",
      "\n",
      "fig = plt.figure(figsize=(12,8))\n",
      "\n",
      "data=np.loadtxt('postProcessing/sets/1/s2_U.xy', skiprows=0)\n",
      "\n",
      "plt.plot(data[:,0],data[:,1],'o',label='icoFoam')\n",
      "\n",
      "vmax = max(data[:,1])\n",
      "rmax = 0.05\n",
      "\n",
      "x = np.linspace(-1*rmax, rmax, 100)\n",
      "sol = vmax*(1 - x**2/rmax**2)\n",
      "\n",
      "plt.plot(x,sol,'-',label='Analytical solution')\n",
      "\n",
      "plt.legend()\n",
      "plt.grid()\n",
      "plt.xlabel('Radius',fontsize=15)\n",
      "plt.ylabel('$V_{axial}$',fontsize=15)"
     ],
     "language": "python",
     "metadata": {},
     "outputs": [
      {
       "metadata": {},
       "output_type": "pyout",
       "prompt_number": 107,
       "text": [
        "<matplotlib.text.Text at 0x7f9ae21adfd0>"
       ]
      },
      {
       "metadata": {},
       "output_type": "display_data",
       "png": "[encoded data removed]",
       "text": [
        "<matplotlib.figure.Figure at 0x7f9ae2284450>"
       ]
      }
     ],
     "prompt_number": 107
    },
    {
     "cell_type": "markdown",
     "metadata": {},
     "source": [
      "<br>\n",
      "<br>\n",
      "<br>\n",
      "For completeness, I will give you a few instructtions of how to work with arrays in numpy.<br>\n",
      "\n",
      "To create an array (in this case a vector):"
     ]
    },
    {
     "cell_type": "code",
     "collapsed": false,
     "input": [
      "np.array([1, 2, 3, 4])"
     ],
     "language": "python",
     "metadata": {},
     "outputs": [
      {
       "metadata": {},
       "output_type": "pyout",
       "prompt_number": 72,
       "text": [
        "array([1, 2, 3, 4])"
       ]
      }
     ],
     "prompt_number": 72
    },
    {
     "cell_type": "markdown",
     "metadata": {},
     "source": [
      "To create a multi-dimensional array and save the values in the variable x:"
     ]
    },
    {
     "cell_type": "code",
     "collapsed": false,
     "input": [
      "x = np.array([[1, 2, 3, 4], [5, 6, 7, 8]])"
     ],
     "language": "python",
     "metadata": {},
     "outputs": [],
     "prompt_number": 62
    },
    {
     "cell_type": "markdown",
     "metadata": {},
     "source": [
      "To know the type of a variable you use type():"
     ]
    },
    {
     "cell_type": "code",
     "collapsed": false,
     "input": [
      "type(x)"
     ],
     "language": "python",
     "metadata": {},
     "outputs": [
      {
       "metadata": {},
       "output_type": "pyout",
       "prompt_number": 60,
       "text": [
        "numpy.ndarray"
       ]
      }
     ],
     "prompt_number": 60
    },
    {
     "cell_type": "markdown",
     "metadata": {},
     "source": [
      "Which states that teh variable x is a numpy ndarray. <br>\n",
      "To know the dimensions of the array:"
     ]
    },
    {
     "cell_type": "code",
     "collapsed": false,
     "input": [
      "x.shape"
     ],
     "language": "python",
     "metadata": {},
     "outputs": [
      {
       "metadata": {},
       "output_type": "pyout",
       "prompt_number": 63,
       "text": [
        "(2, 4)"
       ]
      }
     ],
     "prompt_number": 63
    },
    {
     "cell_type": "markdown",
     "metadata": {},
     "source": [
      "To print one value of the array"
     ]
    },
    {
     "cell_type": "code",
     "collapsed": false,
     "input": [
      "x[0,0]"
     ],
     "language": "python",
     "metadata": {},
     "outputs": [
      {
       "metadata": {},
       "output_type": "pyout",
       "prompt_number": 64,
       "text": [
        "1"
       ]
      }
     ],
     "prompt_number": 64
    },
    {
     "cell_type": "markdown",
     "metadata": {},
     "source": [
      "To print one column of the array:"
     ]
    },
    {
     "cell_type": "code",
     "collapsed": false,
     "input": [
      "x[:,0]"
     ],
     "language": "python",
     "metadata": {},
     "outputs": [
      {
       "metadata": {},
       "output_type": "pyout",
       "prompt_number": 65,
       "text": [
        "array([1, 5])"
       ]
      }
     ],
     "prompt_number": 65
    },
    {
     "cell_type": "markdown",
     "metadata": {},
     "source": [
      "and to print a row:"
     ]
    },
    {
     "cell_type": "code",
     "collapsed": false,
     "input": [
      "x[0,:]"
     ],
     "language": "python",
     "metadata": {},
     "outputs": [
      {
       "metadata": {},
       "output_type": "pyout",
       "prompt_number": 66,
       "text": [
        "array([1, 2, 3, 4])"
       ]
      }
     ],
     "prompt_number": 66
    },
    {
     "cell_type": "markdown",
     "metadata": {},
     "source": [
      "To compute the mean of the previous row:"
     ]
    },
    {
     "cell_type": "code",
     "collapsed": false,
     "input": [
      "np.mean(x[0,:])"
     ],
     "language": "python",
     "metadata": {},
     "outputs": [
      {
       "metadata": {},
       "output_type": "pyout",
       "prompt_number": 67,
       "text": [
        "2.5"
       ]
      }
     ],
     "prompt_number": 67
    }
   ],
   "metadata": {}
  }
 ]
}